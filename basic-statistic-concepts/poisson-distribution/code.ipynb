{
 "cells": [
  {
   "cell_type": "markdown",
   "source": [
    "# Introduction\n",
    "\n",
    "\n",
    "\n",
    "Bla Bla Bla"
   ],
   "metadata": {}
  },
  {
   "cell_type": "markdown",
   "source": [
    "# Basic Intuition - Poisson Distribution\n",
    "\n",
    "Poisson Distribution is a probability distribution function used to for events that happen in time or space.\n",
    "\n",
    "In a more tecnical way:\n",
    "- The Poisson Distribution probability mass function gives the probability of observing k events in a time period given the length of the period and the average events per time:\n",
    "\n",
    "![title](/home/tegao/Documents/studies/basic-statistic-concepts/images/poisson-distribution.png)\n",
    "\n",
    "**OR**\n",
    "\n",
    "![title](/home/tegao/Documents/studies/basic-statistic-concepts/images/poisson-distribution-resume.png)\n",
    "\n",
    "Where Lambda can be thought of as the expected number of events in the interval. "
   ],
   "metadata": {}
  },
  {
   "cell_type": "markdown",
   "source": [
    "## Poisson distribution example"
   ],
   "metadata": {}
  },
  {
   "cell_type": "code",
   "execution_count": null,
   "source": [
    "##"
   ],
   "outputs": [],
   "metadata": {}
  },
  {
   "cell_type": "code",
   "execution_count": null,
   "source": [],
   "outputs": [],
   "metadata": {}
  },
  {
   "cell_type": "code",
   "execution_count": null,
   "source": [],
   "outputs": [],
   "metadata": {}
  },
  {
   "cell_type": "code",
   "execution_count": null,
   "source": [],
   "outputs": [],
   "metadata": {}
  },
  {
   "cell_type": "code",
   "execution_count": null,
   "source": [],
   "outputs": [],
   "metadata": {}
  },
  {
   "cell_type": "code",
   "execution_count": null,
   "source": [],
   "outputs": [],
   "metadata": {}
  },
  {
   "cell_type": "code",
   "execution_count": null,
   "source": [],
   "outputs": [],
   "metadata": {}
  },
  {
   "cell_type": "code",
   "execution_count": null,
   "source": [],
   "outputs": [],
   "metadata": {}
  },
  {
   "cell_type": "markdown",
   "source": [
    "\n",
    "# Basic Intuition - Poisson Process\n",
    "\n",
    "A Poisson Process is a model for a series of discrete event where the average time between events is known, but the exact timing of events is random. The averege between events it's known, however the occurences are randomly spaced (stochastic).\n",
    "\n",
    "A Poisson process need to meet some criterias:\n",
    " - Events are independent of each other. The occurrence of one event does not affect the probability another event will occur.\n",
    " - The average rate (events per time period) is constant.\n",
    " - Two events cannot occur at the same time.\n",
    "\n",
    "In a more simple way to understand the poisson process:\n",
    "- It's a way to model a poisson distribution to do interesting things, like finding the probability of a number of events in a time period or finding the probability of waiting some time until the next event."
   ],
   "metadata": {}
  },
  {
   "cell_type": "markdown",
   "source": [
    "# It's possibel to model our problem with a Poisson Process?\n",
    "\n",
    "To answer this question it's necessary to know if we have a poisson distribution in our database.\n",
    "\n",
    "Let's see how our results database looks like."
   ],
   "metadata": {}
  },
  {
   "cell_type": "markdown",
   "source": [
    "The total number of goals per year violate the second rule (the rate at which events occur is constant, the rate cannot be higher in some intervals and lower in other intervals), that occurs in all the three possible phenomenous. The means remains more or less constant.\n",
    "\n",
    " Also, as per condition 4, number of trials should be sufficiently bigger than number of successes, which is also violated in this case because we have 147 trials (i.e. number of years in the data set) and successes to the order of ~1000 or more (i.e. total number of goals per year)."
   ],
   "metadata": {}
  },
  {
   "cell_type": "code",
   "execution_count": null,
   "source": [],
   "outputs": [],
   "metadata": {}
  }
 ],
 "metadata": {
  "orig_nbformat": 4,
  "language_info": {
   "name": "python",
   "version": "3.8.10",
   "mimetype": "text/x-python",
   "codemirror_mode": {
    "name": "ipython",
    "version": 3
   },
   "pygments_lexer": "ipython3",
   "nbconvert_exporter": "python",
   "file_extension": ".py"
  },
  "kernelspec": {
   "name": "python3",
   "display_name": "Python 3.8.10 64-bit ('basic-statistic-concepts-TohuyxQ1-py3.8': poetry)"
  },
  "interpreter": {
   "hash": "7630f337efc7943c053d83d42fbeae7d6af55f9e65af0dc51db2a75b0a0aca25"
  }
 },
 "nbformat": 4,
 "nbformat_minor": 2
}